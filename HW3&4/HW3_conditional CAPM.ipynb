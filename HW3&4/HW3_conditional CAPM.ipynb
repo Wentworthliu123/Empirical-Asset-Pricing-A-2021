{
 "cells": [
  {
   "cell_type": "markdown",
   "metadata": {},
   "source": [
    "# Empirical Asset Pricing A 2021\n",
    "## Homework 3: on empirical tests for conditional CAPM\n",
    "**Xinyu Liu, INSEAD**\n",
    "\n",
    "**30.01.2021**"
   ]
  },
  {
   "cell_type": "markdown",
   "metadata": {},
   "source": [
    "## Overview\n",
    "\n",
    "The goal of this exercise is to get a sense of the testing procedures in conditional CAPM."
   ]
  },
  {
   "cell_type": "markdown",
   "metadata": {},
   "source": [
    "## Preparation: Import packages and access data\n"
   ]
  },
  {
   "cell_type": "code",
   "execution_count": 150,
   "metadata": {},
   "outputs": [],
   "source": [
    "import pandas_datareader.data as web  # module for reading datasets directly from the web\n",
    "#pip install pandas-datareader (in case you haven't install this package)\n",
    "from pandas_datareader.famafrench import get_available_datasets\n",
    "import pandas as pd\n",
    "import numpy as np\n",
    "import datetime as dt\n",
    "import matplotlib.pyplot as plt\n",
    "plt.style.use('seaborn')\n",
    "from matplotlib.dates import DateFormatter\n",
    "import matplotlib.dates as mdates\n",
    "import statsmodels.api as sm\n",
    "import scipy as sp\n",
    "from dateutil.relativedelta import relativedelta\n",
    "import datapungibea as dpb\n",
    "# print latex \n",
    "# from IPython.display import display, Math"
   ]
  },
  {
   "cell_type": "code",
   "execution_count": 151,
   "metadata": {},
   "outputs": [
    {
     "name": "stdout",
     "output_type": "stream",
     "text": [
      "No. of datasets:297\n"
     ]
    }
   ],
   "source": [
    "###########################\n",
    "# Fama French Factor Grabber\n",
    "###########################\n",
    "#https://randlow.github.io/posts/finance-economics/pandas-datareader-KF/\n",
    "#Please refer to this link if you have any further questions.\n",
    "\n",
    "#You can extract all the available datasets from Ken French's website and find that there are 297 of them. We can opt to see all the datasets available.\n",
    "datasets = get_available_datasets()\n",
    "print('No. of datasets:{}'.format(len(datasets)))\n",
    "#datasets # comment out if you want to see all the datasets"
   ]
  },
  {
   "cell_type": "code",
   "execution_count": 152,
   "metadata": {},
   "outputs": [],
   "source": [
    "###########################\n",
    "#Customize your data selection\n",
    "###########################\n",
    "#It is important to check the description of the dataset we access by using the following codes \n",
    "sdate='1969-01-01'\n",
    "edate='2018-12-31'"
   ]
  },
  {
   "cell_type": "markdown",
   "metadata": {},
   "source": [
    "#### For $M kt-Rf, SMB, HML$ Factors:"
   ]
  },
  {
   "cell_type": "code",
   "execution_count": 153,
   "metadata": {
    "scrolled": true
   },
   "outputs": [
    {
     "name": "stdout",
     "output_type": "stream",
     "text": [
      "\n",
      "KEYS\n",
      "dict_keys([0, 1, 'DESCR'])\n",
      "DATASET DESCRIPTION \n",
      " F-F Research Data Factors\n",
      "-------------------------\n",
      "\n",
      "This file was created by CMPT_ME_BEME_RETS using the 202012 CRSP database. The 1-month TBill return is from Ibbotson and Associates, Inc. Copyright 2020 Kenneth R. French\n",
      "\n",
      "  0 : (600 rows x 4 cols)\n",
      "  1 : Annual Factors: January-December (50 rows x 4 cols)\n"
     ]
    },
    {
     "data": {
      "text/html": [
       "<div>\n",
       "<style scoped>\n",
       "    .dataframe tbody tr th:only-of-type {\n",
       "        vertical-align: middle;\n",
       "    }\n",
       "\n",
       "    .dataframe tbody tr th {\n",
       "        vertical-align: top;\n",
       "    }\n",
       "\n",
       "    .dataframe thead th {\n",
       "        text-align: right;\n",
       "    }\n",
       "</style>\n",
       "<table border=\"1\" class=\"dataframe\">\n",
       "  <thead>\n",
       "    <tr style=\"text-align: right;\">\n",
       "      <th></th>\n",
       "      <th>Mkt-RF</th>\n",
       "      <th>SMB</th>\n",
       "      <th>HML</th>\n",
       "      <th>RF</th>\n",
       "    </tr>\n",
       "    <tr>\n",
       "      <th>Date</th>\n",
       "      <th></th>\n",
       "      <th></th>\n",
       "      <th></th>\n",
       "      <th></th>\n",
       "    </tr>\n",
       "  </thead>\n",
       "  <tbody>\n",
       "    <tr>\n",
       "      <th>1969-01-01</th>\n",
       "      <td>-1.25</td>\n",
       "      <td>-0.77</td>\n",
       "      <td>1.66</td>\n",
       "      <td>0.53</td>\n",
       "    </tr>\n",
       "    <tr>\n",
       "      <th>1969-02-01</th>\n",
       "      <td>-5.84</td>\n",
       "      <td>-3.90</td>\n",
       "      <td>0.86</td>\n",
       "      <td>0.46</td>\n",
       "    </tr>\n",
       "    <tr>\n",
       "      <th>1969-03-01</th>\n",
       "      <td>2.64</td>\n",
       "      <td>-0.26</td>\n",
       "      <td>-0.52</td>\n",
       "      <td>0.46</td>\n",
       "    </tr>\n",
       "    <tr>\n",
       "      <th>1969-04-01</th>\n",
       "      <td>1.46</td>\n",
       "      <td>-0.87</td>\n",
       "      <td>-0.03</td>\n",
       "      <td>0.53</td>\n",
       "    </tr>\n",
       "    <tr>\n",
       "      <th>1969-05-01</th>\n",
       "      <td>-0.10</td>\n",
       "      <td>-0.26</td>\n",
       "      <td>0.71</td>\n",
       "      <td>0.48</td>\n",
       "    </tr>\n",
       "  </tbody>\n",
       "</table>\n",
       "</div>"
      ],
      "text/plain": [
       "            Mkt-RF   SMB   HML    RF\n",
       "Date                                \n",
       "1969-01-01   -1.25 -0.77  1.66  0.53\n",
       "1969-02-01   -5.84 -3.90  0.86  0.46\n",
       "1969-03-01    2.64 -0.26 -0.52  0.46\n",
       "1969-04-01    1.46 -0.87 -0.03  0.53\n",
       "1969-05-01   -0.10 -0.26  0.71  0.48"
      ]
     },
     "execution_count": 153,
     "metadata": {},
     "output_type": "execute_result"
    }
   ],
   "source": [
    "Datatoread='F-F_Research_Data_Factors'\n",
    "ds_factors = web.DataReader(Datatoread,'famafrench',start=sdate,end=edate) # Taking [0] as extracting 1F-F-Research_Data_Factors_2x3')\n",
    "print('\\nKEYS\\n{}'.format(ds_factors.keys()))\n",
    "print('DATASET DESCRIPTION \\n {}'.format(ds_factors['DESCR']))\n",
    "#From the printed information we know that we need to select the \"0\" name in the dictionary\n",
    "#copy the right dict for later examination\n",
    "dfFactor = ds_factors[0].copy()\n",
    "# 0 for monthly data and 1 for yearly data\n",
    "dfFactor.reset_index(inplace=True)\n",
    "\n",
    "#Date format adjustment\n",
    "# dfFactor['Date']=dfFactor['Date'].dt.strftime('%Y-%m')\n",
    "dfFactor = dfFactor.set_index(['Date'])\n",
    "dfFactor.index=dfFactor.index.to_timestamp()\n",
    "# dfFactor['Date']=dfFactor['Date'].dt.to_timestamp(freq='M').dt.strftime('%Y-%m')\n",
    "#Obtained object dtype\n",
    "# dfFactor.index=pd.to_datetime(dfFactor.index)\n",
    "#Obtained dt64, which is needed for the plotting\n",
    "\n",
    "RF = dfFactor['RF']\n",
    "# dfFactor=dfFactor.drop(columns = ['RF'])\n",
    "# I check the scale of the data by printing out the head:\n",
    "dfFactor.head()"
   ]
  },
  {
   "cell_type": "markdown",
   "metadata": {},
   "source": [
    "#### For 25 portfolios formed on size and book-to-market (5 x 5)"
   ]
  },
  {
   "cell_type": "code",
   "execution_count": 154,
   "metadata": {
    "scrolled": true
   },
   "outputs": [
    {
     "name": "stdout",
     "output_type": "stream",
     "text": [
      "\n",
      "KEYS\n",
      "dict_keys([0, 1, 2, 3, 4, 5, 6, 7, 8, 9, 'DESCR'])\n",
      "DATASET DESCRIPTION \n",
      " 25 Portfolios 5x5\n",
      "-----------------\n",
      "\n",
      "This file was created by CMPT_ME_BEME_OP_INV_RETS using the 202012 CRSP database. It contains value- and equal-weighted returns for portfolios formed on ME and BEME. The portfolios are constructed at the end of June. BEME is book value at the last fiscal year end of the prior calendar year divided by ME at the end of December of the prior year. Annual returns are from January to December. Missing data are indicated by -99.99 or -999. The break points include utilities and include financials. The portfolios include utilities and include financials. Copyright 2020 Kenneth R. French\n",
      "\n",
      "  0 : Average Value Weighted Returns -- Monthly (600 rows x 25 cols)\n",
      "  1 : Average Equal Weighted Returns -- Monthly (600 rows x 25 cols)\n",
      "  2 : Average Value Weighted Returns -- Annual (50 rows x 25 cols)\n",
      "  3 : Average Equal Weighted Returns -- Annual (50 rows x 25 cols)\n",
      "  4 : Number of Firms in Portfolios (600 rows x 25 cols)\n",
      "  5 : Average Market Cap (600 rows x 25 cols)\n",
      "  6 : For portfolios formed in June of year t   Value Weight Average of BE/ME Calculated for June of t to June of t+1 as:    Sum[ME(Mth) * BE(Fiscal Year t-1) / ME(Dec t-1)] / Sum[ME(Mth)]   Where Mth is a month from June of t to June of t+1   and BE(Fiscal Year t-1) is adjusted for net stock issuance to Dec t-1 (600 rows x 25 cols)\n",
      "  7 : For portfolios formed in June of year t   Value Weight Average of BE_FYt-1/ME_June t Calculated for June of t to June of t+1 as:    Sum[ME(Mth) * BE(Fiscal Year t-1) / ME(Jun t)] / Sum[ME(Mth)]   Where Mth is a month from June of t to June of t+1   and BE(Fiscal Year t-1) is adjusted for net stock issuance to Jun t (600 rows x 25 cols)\n",
      "  8 : For portfolios formed in June of year t   Value Weight Average of OP Calculated as:    Sum[ME(Mth) * OP(fiscal year t-1) / BE(fiscal year t-1)] / Sum[ME(Mth)]    Where Mth is a month from June of t to June of t+1 (600 rows x 25 cols)\n",
      "  9 : For portfolios formed in June of year t   Value Weight Average of investment (rate of growth of assets) Calculated as:    Sum[ME(Mth) * Log(ASSET(t-1) / ASSET(t-2) / Sum[ME(Mth)]    Where Mth is a month from June of t to June of t+1 (600 rows x 25 cols)\n"
     ]
    },
    {
     "data": {
      "text/html": [
       "<div>\n",
       "<style scoped>\n",
       "    .dataframe tbody tr th:only-of-type {\n",
       "        vertical-align: middle;\n",
       "    }\n",
       "\n",
       "    .dataframe tbody tr th {\n",
       "        vertical-align: top;\n",
       "    }\n",
       "\n",
       "    .dataframe thead th {\n",
       "        text-align: right;\n",
       "    }\n",
       "</style>\n",
       "<table border=\"1\" class=\"dataframe\">\n",
       "  <thead>\n",
       "    <tr style=\"text-align: right;\">\n",
       "      <th></th>\n",
       "      <th>SMALL LoBM</th>\n",
       "      <th>ME1 BM2</th>\n",
       "      <th>ME1 BM3</th>\n",
       "      <th>ME1 BM4</th>\n",
       "      <th>SMALL HiBM</th>\n",
       "      <th>ME2 BM1</th>\n",
       "      <th>ME2 BM2</th>\n",
       "      <th>ME2 BM3</th>\n",
       "      <th>ME2 BM4</th>\n",
       "      <th>ME2 BM5</th>\n",
       "      <th>...</th>\n",
       "      <th>ME4 BM1</th>\n",
       "      <th>ME4 BM2</th>\n",
       "      <th>ME4 BM3</th>\n",
       "      <th>ME4 BM4</th>\n",
       "      <th>ME4 BM5</th>\n",
       "      <th>BIG LoBM</th>\n",
       "      <th>ME5 BM2</th>\n",
       "      <th>ME5 BM3</th>\n",
       "      <th>ME5 BM4</th>\n",
       "      <th>BIG HiBM</th>\n",
       "    </tr>\n",
       "    <tr>\n",
       "      <th>Date</th>\n",
       "      <th></th>\n",
       "      <th></th>\n",
       "      <th></th>\n",
       "      <th></th>\n",
       "      <th></th>\n",
       "      <th></th>\n",
       "      <th></th>\n",
       "      <th></th>\n",
       "      <th></th>\n",
       "      <th></th>\n",
       "      <th></th>\n",
       "      <th></th>\n",
       "      <th></th>\n",
       "      <th></th>\n",
       "      <th></th>\n",
       "      <th></th>\n",
       "      <th></th>\n",
       "      <th></th>\n",
       "      <th></th>\n",
       "      <th></th>\n",
       "      <th></th>\n",
       "    </tr>\n",
       "  </thead>\n",
       "  <tbody>\n",
       "    <tr>\n",
       "      <th>1969-01</th>\n",
       "      <td>-0.4025</td>\n",
       "      <td>-2.2335</td>\n",
       "      <td>-1.7802</td>\n",
       "      <td>-1.5544</td>\n",
       "      <td>-1.3196</td>\n",
       "      <td>-2.8461</td>\n",
       "      <td>-0.7510</td>\n",
       "      <td>-1.8779</td>\n",
       "      <td>1.5990</td>\n",
       "      <td>0.6508</td>\n",
       "      <td>...</td>\n",
       "      <td>-2.0630</td>\n",
       "      <td>0.2514</td>\n",
       "      <td>-0.2464</td>\n",
       "      <td>-0.2079</td>\n",
       "      <td>1.2718</td>\n",
       "      <td>-2.1638</td>\n",
       "      <td>-0.4018</td>\n",
       "      <td>0.9410</td>\n",
       "      <td>-0.3636</td>\n",
       "      <td>1.3852</td>\n",
       "    </tr>\n",
       "    <tr>\n",
       "      <th>1969-02</th>\n",
       "      <td>-12.4494</td>\n",
       "      <td>-10.5555</td>\n",
       "      <td>-9.2350</td>\n",
       "      <td>-8.5046</td>\n",
       "      <td>-8.8238</td>\n",
       "      <td>-10.7773</td>\n",
       "      <td>-8.4455</td>\n",
       "      <td>-5.2539</td>\n",
       "      <td>-7.0363</td>\n",
       "      <td>-7.4922</td>\n",
       "      <td>...</td>\n",
       "      <td>-8.2546</td>\n",
       "      <td>-6.9780</td>\n",
       "      <td>-5.3009</td>\n",
       "      <td>-7.2757</td>\n",
       "      <td>-8.7325</td>\n",
       "      <td>-3.2461</td>\n",
       "      <td>-3.4666</td>\n",
       "      <td>-4.9663</td>\n",
       "      <td>-4.6013</td>\n",
       "      <td>-6.1950</td>\n",
       "    </tr>\n",
       "    <tr>\n",
       "      <th>1969-03</th>\n",
       "      <td>3.2010</td>\n",
       "      <td>2.4528</td>\n",
       "      <td>3.7361</td>\n",
       "      <td>3.7708</td>\n",
       "      <td>2.3997</td>\n",
       "      <td>4.2086</td>\n",
       "      <td>1.6967</td>\n",
       "      <td>2.0297</td>\n",
       "      <td>0.4698</td>\n",
       "      <td>5.4560</td>\n",
       "      <td>...</td>\n",
       "      <td>4.3715</td>\n",
       "      <td>-2.1228</td>\n",
       "      <td>2.5373</td>\n",
       "      <td>1.7028</td>\n",
       "      <td>3.5591</td>\n",
       "      <td>4.2629</td>\n",
       "      <td>2.7424</td>\n",
       "      <td>3.8643</td>\n",
       "      <td>1.9452</td>\n",
       "      <td>4.7621</td>\n",
       "    </tr>\n",
       "    <tr>\n",
       "      <th>1969-04</th>\n",
       "      <td>1.2235</td>\n",
       "      <td>-0.7933</td>\n",
       "      <td>1.8274</td>\n",
       "      <td>1.7605</td>\n",
       "      <td>-0.0206</td>\n",
       "      <td>1.7189</td>\n",
       "      <td>1.0909</td>\n",
       "      <td>0.7837</td>\n",
       "      <td>-0.5958</td>\n",
       "      <td>4.8097</td>\n",
       "      <td>...</td>\n",
       "      <td>2.9046</td>\n",
       "      <td>2.1104</td>\n",
       "      <td>0.4730</td>\n",
       "      <td>-0.4131</td>\n",
       "      <td>1.7164</td>\n",
       "      <td>3.7428</td>\n",
       "      <td>0.9610</td>\n",
       "      <td>1.0659</td>\n",
       "      <td>3.0219</td>\n",
       "      <td>0.7321</td>\n",
       "    </tr>\n",
       "    <tr>\n",
       "      <th>1969-05</th>\n",
       "      <td>1.0563</td>\n",
       "      <td>0.8531</td>\n",
       "      <td>0.6944</td>\n",
       "      <td>1.2134</td>\n",
       "      <td>0.3662</td>\n",
       "      <td>-1.8038</td>\n",
       "      <td>-1.8784</td>\n",
       "      <td>-0.8601</td>\n",
       "      <td>0.0315</td>\n",
       "      <td>0.5312</td>\n",
       "      <td>...</td>\n",
       "      <td>-0.1192</td>\n",
       "      <td>-0.6338</td>\n",
       "      <td>1.2612</td>\n",
       "      <td>1.0169</td>\n",
       "      <td>-2.4691</td>\n",
       "      <td>-0.4712</td>\n",
       "      <td>0.5298</td>\n",
       "      <td>1.0587</td>\n",
       "      <td>1.4482</td>\n",
       "      <td>0.4455</td>\n",
       "    </tr>\n",
       "  </tbody>\n",
       "</table>\n",
       "<p>5 rows × 25 columns</p>\n",
       "</div>"
      ],
      "text/plain": [
       "         SMALL LoBM  ME1 BM2  ME1 BM3  ME1 BM4  SMALL HiBM  ME2 BM1  ME2 BM2  \\\n",
       "Date                                                                           \n",
       "1969-01     -0.4025  -2.2335  -1.7802  -1.5544     -1.3196  -2.8461  -0.7510   \n",
       "1969-02    -12.4494 -10.5555  -9.2350  -8.5046     -8.8238 -10.7773  -8.4455   \n",
       "1969-03      3.2010   2.4528   3.7361   3.7708      2.3997   4.2086   1.6967   \n",
       "1969-04      1.2235  -0.7933   1.8274   1.7605     -0.0206   1.7189   1.0909   \n",
       "1969-05      1.0563   0.8531   0.6944   1.2134      0.3662  -1.8038  -1.8784   \n",
       "\n",
       "         ME2 BM3  ME2 BM4  ME2 BM5  ...  ME4 BM1  ME4 BM2  ME4 BM3  ME4 BM4  \\\n",
       "Date                                ...                                       \n",
       "1969-01  -1.8779   1.5990   0.6508  ...  -2.0630   0.2514  -0.2464  -0.2079   \n",
       "1969-02  -5.2539  -7.0363  -7.4922  ...  -8.2546  -6.9780  -5.3009  -7.2757   \n",
       "1969-03   2.0297   0.4698   5.4560  ...   4.3715  -2.1228   2.5373   1.7028   \n",
       "1969-04   0.7837  -0.5958   4.8097  ...   2.9046   2.1104   0.4730  -0.4131   \n",
       "1969-05  -0.8601   0.0315   0.5312  ...  -0.1192  -0.6338   1.2612   1.0169   \n",
       "\n",
       "         ME4 BM5  BIG LoBM  ME5 BM2  ME5 BM3  ME5 BM4  BIG HiBM  \n",
       "Date                                                             \n",
       "1969-01   1.2718   -2.1638  -0.4018   0.9410  -0.3636    1.3852  \n",
       "1969-02  -8.7325   -3.2461  -3.4666  -4.9663  -4.6013   -6.1950  \n",
       "1969-03   3.5591    4.2629   2.7424   3.8643   1.9452    4.7621  \n",
       "1969-04   1.7164    3.7428   0.9610   1.0659   3.0219    0.7321  \n",
       "1969-05  -2.4691   -0.4712   0.5298   1.0587   1.4482    0.4455  \n",
       "\n",
       "[5 rows x 25 columns]"
      ]
     },
     "execution_count": 154,
     "metadata": {},
     "output_type": "execute_result"
    }
   ],
   "source": [
    "# I searched for the exact name for this portfolio set by methods mentioned above\n",
    "#It is important to check the description of the dataset we access by using the following codes \n",
    "Datatoread_PORT='25_Portfolios_5x5'\n",
    "ds_PORT = web.DataReader(Datatoread_PORT,'famafrench',start=sdate,end=edate) # Taking [0] as extracting 1F-F-Research_Data_Factors_2x3')\n",
    "print('\\nKEYS\\n{}'.format(ds_PORT.keys()))\n",
    "print('DATASET DESCRIPTION \\n {}'.format(ds_PORT['DESCR']))\n",
    "#From the printed information we know that we need to select the \"0\" name in the dictionary\n",
    "#copy the right dict for later examination\n",
    "dfPORT = ds_PORT[0].copy()\n",
    "dfPORT.reset_index(inplace=True)\n",
    "\n",
    "dfPORT = dfPORT.set_index(['Date'])\n",
    "# I check the scale of the data by printing out the head:\n",
    "dfPORT.head()"
   ]
  },
  {
   "cell_type": "markdown",
   "metadata": {},
   "source": [
    "#### For monthly time-series of the default spread (”Baa - Aaa”)"
   ]
  },
  {
   "cell_type": "code",
   "execution_count": 155,
   "metadata": {},
   "outputs": [],
   "source": [
    "from fredapi import Fred\n",
    "fred = Fred(api_key='a92c0ce5eac17974829aaaf26e203db6')\n",
    "Aaa = fred.get_series_latest_release('AAA')\n",
    "Baa = fred.get_series_latest_release('BAA')\n",
    "\n",
    "Bond_spread = pd.DataFrame({'Aaa':Aaa.values,'Baa':Baa.values},index = Aaa.index)\n",
    "Bond_spread = Bond_spread[(Bond_spread.index<=pd.to_datetime(edate)) & (Bond_spread.index>=pd.to_datetime(sdate))]\n",
    "Bond_spread['Spread'] = Bond_spread['Baa']- Bond_spread['Aaa']\n",
    "dfFactor = dfFactor.merge(Bond_spread[['Spread']], how='inner', left_index=True, right_index=True)"
   ]
  },
  {
   "cell_type": "code",
   "execution_count": 156,
   "metadata": {},
   "outputs": [
    {
     "data": {
      "image/png": "[encoded data removed]",
      "text/plain": [
       "<Figure size 576x288 with 1 Axes>"
      ]
     },
     "metadata": {},
     "output_type": "display_data"
    }
   ],
   "source": [
    "def portfolio_plot(df, num_subplot, plot_name='testing' ,figsize=(8,8), cmap ='twilight'):\n",
    "    n = num_subplot\n",
    "    fig, axes = plt.subplots(n,1,figsize=figsize,sharex=True,sharey=True)\n",
    "\n",
    "    # fig.suptitle('Time series of relevant variables',fontsize=16)\n",
    "    # Add an origin point at the top of the dataframe\n",
    "    dfcopy = df.copy()\n",
    "#     dfcopy.index = dfcopy.index.to_timestamp()\n",
    "#     origin = dfcopy.index[0]-relativedelta(months=1)\n",
    "#     dfcopy.loc[origin,:] = [1]*len(dfcopy.columns)\n",
    "#     dfcopy=dfcopy.sort_index()\n",
    "\n",
    "    dfFactor_cum = dfcopy\n",
    "    for k,factortitle in enumerate(dfcopy.columns):\n",
    "        if n==1:\n",
    "            ax = axes\n",
    "        else:\n",
    "            ax = axes[k//n]\n",
    "        ax.plot(dfFactor_cum.index,dfFactor_cum[factortitle], label='{}: {:.2f}'.format(factortitle, dfFactor_cum[factortitle].mean()))\n",
    "        ax.xaxis.set_major_formatter(years_fmt)\n",
    "        colormap = plt.cm.get_cmap(cmap)   \n",
    "        colors = [colormap(i) for i in np.linspace(0.3, 0.5,len(ax.lines))]\n",
    "        for i,j in enumerate(ax.lines):\n",
    "            j.set_color(colors[i])\n",
    "        ax.legend(fontsize = 10,loc=2)\n",
    "    fig.text(0.04, 0.5, 'Time series of ' +plot_name, va='center', ha='center',rotation='vertical',fontsize = 14)\n",
    "    plt.savefig(\"Time series of \"+plot_name)\n",
    "    plt.show()\n",
    "portfolio_plot(dfFactor[['Spread', 'RF']], 1, plot_name='Spread and RF' ,figsize=(8,4), cmap ='twilight')"
   ]
  },
  {
   "cell_type": "markdown",
   "metadata": {},
   "source": [
    "#### For monthly time-series of labor income growth (BEA)"
   ]
  },
  {
   "cell_type": "code",
   "execution_count": 271,
   "metadata": {},
   "outputs": [
    {
     "ename": "KeyError",
     "evalue": "'Results'",
     "output_type": "error",
     "traceback": [
      "\u001b[1;31m---------------------------------------------------------------------------\u001b[0m",
      "\u001b[1;31mKeyError\u001b[0m                                  Traceback (most recent call last)",
      "\u001b[1;32m<ipython-input-271-600d34ed4eed>\u001b[0m in \u001b[0;36m<module>\u001b[1;34m\u001b[0m\n\u001b[0;32m      1\u001b[0m \u001b[0mBEA_data\u001b[0m \u001b[1;33m=\u001b[0m \u001b[0mdpb\u001b[0m\u001b[1;33m.\u001b[0m\u001b[0mdata\u001b[0m\u001b[1;33m(\u001b[0m\u001b[1;34m'FDA2D756-CC0A-4AAA-A1D5-980FA23F31BB'\u001b[0m\u001b[1;33m)\u001b[0m \u001b[1;31m#or data = dpb.data(\"API Key\")\u001b[0m\u001b[1;33m\u001b[0m\u001b[1;33m\u001b[0m\u001b[0m\n\u001b[1;32m----> 2\u001b[1;33m \u001b[0mNIPA_cons\u001b[0m\u001b[1;33m=\u001b[0m\u001b[0mBEA_data\u001b[0m\u001b[1;33m.\u001b[0m\u001b[0mNIPA\u001b[0m\u001b[1;33m(\u001b[0m\u001b[1;34m'T20600'\u001b[0m\u001b[1;33m,\u001b[0m\u001b[0mfrequency\u001b[0m\u001b[1;33m=\u001b[0m\u001b[1;34m'M'\u001b[0m\u001b[1;33m)\u001b[0m\u001b[1;33m\u001b[0m\u001b[1;33m\u001b[0m\u001b[0m\n\u001b[0m\u001b[0;32m      3\u001b[0m \u001b[1;31m#Download annual consumption data on nondurable goods from Table 2.6.\u001b[0m\u001b[1;33m\u001b[0m\u001b[1;33m\u001b[0m\u001b[1;33m\u001b[0m\u001b[0m\n\u001b[0;32m      4\u001b[0m \u001b[1;31m#on “Personal Income and Its Disposition, Monthly”\u001b[0m\u001b[1;33m\u001b[0m\u001b[1;33m\u001b[0m\u001b[1;33m\u001b[0m\u001b[0m\n\u001b[0;32m      5\u001b[0m \u001b[0mNIPA_cons\u001b[0m\u001b[1;33m.\u001b[0m\u001b[0mreset_index\u001b[0m\u001b[1;33m(\u001b[0m\u001b[0minplace\u001b[0m\u001b[1;33m=\u001b[0m\u001b[1;32mTrue\u001b[0m\u001b[1;33m)\u001b[0m\u001b[1;33m\u001b[0m\u001b[1;33m\u001b[0m\u001b[0m\n",
      "\u001b[1;32mC:\\ProgramData\\Anaconda3\\lib\\site-packages\\datapungibea\\api.py\u001b[0m in \u001b[0;36mwrapper\u001b[1;34m(*args, **kwargs)\u001b[0m\n\u001b[0;32m     34\u001b[0m             \u001b[0mself\u001b[0m\u001b[1;33m.\u001b[0m\u001b[0m_lastCalledDriver\u001b[0m \u001b[1;33m=\u001b[0m \u001b[0mdelegate_object\u001b[0m \u001b[1;31m#NOTE: could use this to track all loaded data etc.  For now, will only use\u001b[0m\u001b[1;33m\u001b[0m\u001b[1;33m\u001b[0m\u001b[0m\n\u001b[0;32m     35\u001b[0m \u001b[1;33m\u001b[0m\u001b[0m\n\u001b[1;32m---> 36\u001b[1;33m             \u001b[1;32mreturn\u001b[0m\u001b[1;33m(\u001b[0m\u001b[0mgetattr\u001b[0m\u001b[1;33m(\u001b[0m\u001b[0mdelegate_object\u001b[0m\u001b[1;33m,\u001b[0m \u001b[0mcalled_method\u001b[0m\u001b[1;33m)\u001b[0m\u001b[1;33m(\u001b[0m\u001b[1;33m*\u001b[0m\u001b[0margs\u001b[0m\u001b[1;33m,\u001b[0m \u001b[1;33m**\u001b[0m\u001b[0mkwargs\u001b[0m\u001b[1;33m)\u001b[0m\u001b[1;33m)\u001b[0m\u001b[1;33m\u001b[0m\u001b[1;33m\u001b[0m\u001b[0m\n\u001b[0m\u001b[0;32m     37\u001b[0m \u001b[1;33m\u001b[0m\u001b[0m\n\u001b[0;32m     38\u001b[0m         \u001b[1;32mreturn\u001b[0m\u001b[1;33m(\u001b[0m\u001b[0mwrapper\u001b[0m\u001b[1;33m)\u001b[0m\u001b[1;33m\u001b[0m\u001b[1;33m\u001b[0m\u001b[0m\n",
      "\u001b[1;32mC:\\ProgramData\\Anaconda3\\lib\\site-packages\\datapungibea\\drivers.py\u001b[0m in \u001b[0;36mNIPA\u001b[1;34m(self, tableName, frequency, year, payload, outputFormat, verbose, includeIndentations)\u001b[0m\n\u001b[0;32m    229\u001b[0m         \u001b[0mretrivedData\u001b[0m \u001b[1;33m=\u001b[0m \u001b[0mrequests\u001b[0m\u001b[1;33m.\u001b[0m\u001b[0mget\u001b[0m\u001b[1;33m(\u001b[0m\u001b[1;33m**\u001b[0m\u001b[0mquery\u001b[0m\u001b[1;33m)\u001b[0m\u001b[1;33m\u001b[0m\u001b[1;33m\u001b[0m\u001b[0m\n\u001b[0;32m    230\u001b[0m \u001b[1;33m\u001b[0m\u001b[0m\n\u001b[1;32m--> 231\u001b[1;33m         \u001b[0moutput\u001b[0m         \u001b[1;33m=\u001b[0m \u001b[0mself\u001b[0m\u001b[1;33m.\u001b[0m\u001b[0m_cleanOutput\u001b[0m\u001b[1;33m(\u001b[0m\u001b[0mquery\u001b[0m\u001b[1;33m,\u001b[0m\u001b[0mretrivedData\u001b[0m\u001b[1;33m,\u001b[0m\u001b[0moutputFormat\u001b[0m\u001b[1;33m,\u001b[0m\u001b[0mincludeIndentations\u001b[0m\u001b[1;33m)\u001b[0m \u001b[1;31m#a dict of a df or df and meta (tablePretty)\u001b[0m\u001b[1;33m\u001b[0m\u001b[1;33m\u001b[0m\u001b[0m\n\u001b[0m\u001b[0;32m    232\u001b[0m \u001b[1;33m\u001b[0m\u001b[0m\n\u001b[0;32m    233\u001b[0m         \u001b[1;32mif\u001b[0m \u001b[0mverbose\u001b[0m \u001b[1;33m==\u001b[0m \u001b[1;32mFalse\u001b[0m\u001b[1;33m:\u001b[0m\u001b[1;33m\u001b[0m\u001b[1;33m\u001b[0m\u001b[0m\n",
      "\u001b[1;32mC:\\ProgramData\\Anaconda3\\lib\\site-packages\\datapungibea\\drivers.py\u001b[0m in \u001b[0;36m_cleanOutput\u001b[1;34m(self, query, retrivedData, outputFormat, includeIndentations)\u001b[0m\n\u001b[0;32m    243\u001b[0m         \u001b[1;32mif\u001b[0m \u001b[0mquery\u001b[0m\u001b[1;33m[\u001b[0m\u001b[1;34m'params'\u001b[0m\u001b[1;33m]\u001b[0m\u001b[1;33m[\u001b[0m\u001b[1;34m'ResultFormat'\u001b[0m\u001b[1;33m]\u001b[0m \u001b[1;33m==\u001b[0m \u001b[1;34m'JSON'\u001b[0m\u001b[1;33m:\u001b[0m\u001b[1;33m\u001b[0m\u001b[1;33m\u001b[0m\u001b[0m\n\u001b[0;32m    244\u001b[0m             \u001b[0mself\u001b[0m\u001b[1;33m.\u001b[0m\u001b[0m_cleanCode\u001b[0m \u001b[1;33m=\u001b[0m \u001b[1;34m\"df_output =  pd.DataFrame(retrivedData.json()['BEAAPI']['Results']['Data'])\"\u001b[0m\u001b[1;33m\u001b[0m\u001b[1;33m\u001b[0m\u001b[0m\n\u001b[1;32m--> 245\u001b[1;33m             \u001b[0mdf_output\u001b[0m \u001b[1;33m=\u001b[0m  \u001b[0mpd\u001b[0m\u001b[1;33m.\u001b[0m\u001b[0mDataFrame\u001b[0m\u001b[1;33m(\u001b[0m\u001b[0mretrivedData\u001b[0m\u001b[1;33m.\u001b[0m\u001b[0mjson\u001b[0m\u001b[1;33m(\u001b[0m\u001b[1;33m)\u001b[0m\u001b[1;33m[\u001b[0m\u001b[1;34m'BEAAPI'\u001b[0m\u001b[1;33m]\u001b[0m\u001b[1;33m[\u001b[0m\u001b[1;34m'Results'\u001b[0m\u001b[1;33m]\u001b[0m\u001b[1;33m[\u001b[0m\u001b[1;34m'Data'\u001b[0m\u001b[1;33m]\u001b[0m\u001b[1;33m)\u001b[0m\u001b[1;33m\u001b[0m\u001b[1;33m\u001b[0m\u001b[0m\n\u001b[0m\u001b[0;32m    246\u001b[0m             \u001b[0mdf_output\u001b[0m\u001b[1;33m.\u001b[0m\u001b[0mmeta\u001b[0m \u001b[1;33m=\u001b[0m \u001b[1;34m''\u001b[0m\u001b[1;33m\u001b[0m\u001b[1;33m\u001b[0m\u001b[0m\n\u001b[0;32m    247\u001b[0m             \u001b[1;32mtry\u001b[0m\u001b[1;33m:\u001b[0m\u001b[1;33m\u001b[0m\u001b[1;33m\u001b[0m\u001b[0m\n",
      "\u001b[1;31mKeyError\u001b[0m: 'Results'"
     ]
    }
   ],
   "source": [
    "BEA_data = dpb.data('FDA2D756-CC0A-4AAA-A1D5-980FA23F31BB') #or data = dpb.data(\"API Key\")\n",
    "NIPA_cons=BEA_data.NIPA('T20600',frequency='M')\n",
    "#Download annual consumption data on nondurable goods from Table 2.6. \n",
    "#on “Personal Income and Its Disposition, Monthly”\n",
    "NIPA_cons.reset_index(inplace=True)\n",
    "Compensation_data=NIPA_cons[NIPA_cons['LineDescription']=='-Compensation of employees']\n",
    "Compensation_data = Compensation_data.T.iloc[4:,:]\n",
    "Compensation_data.columns=['Compensation']\n",
    "Compensation_data.index = pd.to_datetime(Compensation_data.index.values, format='%YM%m')\n",
    "Compensation_data['Income Growth'] = (Compensation_data['Compensation']-Compensation_data['Compensation'].shift(1))/Compensation_data['Compensation'].shift(1)\n",
    "# Convert strings to datetime \n",
    "Compensation_data = Compensation_data[(Compensation_data.index<=pd.to_datetime(edate)) & (Compensation_data.index>=pd.to_datetime(sdate))]\n",
    "Compensation_data['Mkt-RF'] = dfFactor['Mkt-RF']/100\n",
    "Compensation_data['Income Growth'] = Compensation_data['Income Growth']\n",
    "labor_market = (Compensation_data[['Income Growth','Mkt-RF']]+1).astype('f').resample('Y').prod()-1\n",
    "portfolio_plot(labor_market, 1, plot_name='Income Growth and Mkt-RF (monthly)' ,figsize=(8,4), cmap ='twilight')\n",
    "dfFactor['Labor'] = Compensation_data['Income Growth'].astype('f')*100\n",
    "# I don't know why but the api is not stable so I kept a copy of data \n",
    "# Compensation_data.to_pickle('compensation')"
   ]
  },
  {
   "cell_type": "code",
   "execution_count": 220,
   "metadata": {},
   "outputs": [],
   "source": [
    "Compensation_data = pd.read_pickle('compensation')\n",
    "dfFactor['Labor'] = Compensation_data['Income Growth'].astype('f')*100"
   ]
  },
  {
   "cell_type": "markdown",
   "metadata": {},
   "source": [
    "## Test functions \n",
    "#### Define the function for conducting cross-sectional test"
   ]
  },
  {
   "cell_type": "code",
   "execution_count": 252,
   "metadata": {},
   "outputs": [],
   "source": [
    "def FamaMacbeth_Test(factor_matrix, test_assets, RF):\n",
    "#     test_assets.index = test_assets.index.to_timestamp()\n",
    "    # Step one, time series regression, obtain estimated beta for each portfolio\n",
    "    X = sm.add_constant(factor_matrix)\n",
    "    beta_matrix = pd.DataFrame()\n",
    "    for i in range(len(test_assets.columns)):\n",
    "        y= test_assets.iloc[:,i]-RF\n",
    "        model = sm.OLS(y, X)\n",
    "        results = model.fit()\n",
    "        beta_i = pd.DataFrame(results.params[1:]).T\n",
    "        beta_matrix= pd.concat([beta_matrix, beta_i])\n",
    "    beta_matrix.index = test_assets.columns\n",
    "\n",
    "    # Step two, cross sectional regression, obtain estimated intercept and factor risk premium period by period\n",
    "    X = sm.add_constant(beta_matrix)\n",
    "    premium_matrix = pd.DataFrame()\n",
    "    rsquare_matrix = []\n",
    "    for i in range(len(test_assets.index)):\n",
    "        # Note to be consisitent we should still use the excess return\n",
    "        y= test_assets.iloc[i,:]-RF[i]\n",
    "        model = sm.OLS(y, X)\n",
    "        results = model.fit()\n",
    "        premium_i = pd.DataFrame(results.params).T\n",
    "        premium_matrix= pd.concat([premium_matrix, premium_i])\n",
    "        \n",
    "        rsquare_matrix.append(results.rsquared_adj)\n",
    "    premium_matrix.index = factor_matrix.index\n",
    "    \n",
    "    ## Key formula to calculate the statistics\n",
    "    point_estimate = premium_matrix.mean()\n",
    "    N = len(test_assets.index)\n",
    "    std = premium_matrix.std()/np.sqrt(N)\n",
    "    df = N-1\n",
    "    significant_level = 0.975\n",
    "    critical_value = sp.stats.t.ppf(significant_level, df)\n",
    "    CI = [point_estimate-std*critical_value, point_estimate+std*critical_value]\n",
    "    reports = pd.DataFrame(point_estimate).T\n",
    "    reports = reports.rename(index={0:'FM coef'})\n",
    "    reports.loc['t-stats',:]= reports.iloc[0,:]/std\n",
    "\n",
    "    print(reports.round(2).to_latex())\n",
    "    return beta_matrix, premium_matrix, point_estimate, rsquare_matrix"
   ]
  },
  {
   "cell_type": "code",
   "execution_count": 253,
   "metadata": {},
   "outputs": [
    {
     "name": "stdout",
     "output_type": "stream",
     "text": [
      "\\begin{tabular}{lrrrr}\n",
      "\\toprule\n",
      "{} &  const &  Mkt-RF &  Spread &  Labor \\\\\n",
      "\\midrule\n",
      "FM coef &   1.65 &   -1.04 &    0.34 &  -0.00 \\\\\n",
      "t-stats &   4.39 &   -2.65 &    2.85 &  -0.02 \\\\\n",
      "\\bottomrule\n",
      "\\end{tabular}\n",
      "\n"
     ]
    }
   ],
   "source": [
    "beta_matrix, premium_matrix, point_estimate, rsquare_mean = FamaMacbeth_Test(dfFactor[['Mkt-RF', 'Spread','Labor']], dfPORT, RF)"
   ]
  },
  {
   "cell_type": "code",
   "execution_count": 286,
   "metadata": {},
   "outputs": [
    {
     "name": "stdout",
     "output_type": "stream",
     "text": [
      "\\begin{tabular}{lrrrr}\n",
      "\\toprule\n",
      "{} &  const &  Mkt-RF &  Spread &  Labor \\\\\n",
      "\\midrule\n",
      "FM coef &   1.23 &   -0.86 &    0.31 &  -0.02 \\\\\n",
      "t-stats &   2.55 &   -1.51 &    2.49 &  -0.21 \\\\\n",
      "\\bottomrule\n",
      "\\end{tabular}\n",
      "\n"
     ]
    }
   ],
   "source": [
    "# Sensitivity check for the parameters\n",
    "cut = 240\n",
    "beta_matrix, premium_matrix, point_estimate, rsquare_mean = FamaMacbeth_Test(dfFactor[['Mkt-RF', 'Spread','Labor']].iloc[:cut,:], dfPORT.iloc[:cut,:], RF[:cut])"
   ]
  },
  {
   "cell_type": "code",
   "execution_count": 254,
   "metadata": {},
   "outputs": [],
   "source": [
    "# Rolling average calcualtion for list data\n",
    "numbers = rsquare_mean\n",
    "window_size = 120\n",
    "numbers_series = pd.Series(numbers)\n",
    "windows = numbers_series.rolling(window_size)\n",
    "moving_averages = windows.mean()\n",
    "moving_averages_list = moving_averages.tolist()\n",
    "without_nans = moving_averages_list[window_size - 1:]"
   ]
  },
  {
   "cell_type": "code",
   "execution_count": 269,
   "metadata": {},
   "outputs": [
    {
     "data": {
      "image/png": "[encoded data removed]",
      "text/plain": [
       "<Figure size 576x288 with 1 Axes>"
      ]
     },
     "metadata": {},
     "output_type": "display_data"
    }
   ],
   "source": [
    "# plot time series of rolling average\n",
    "fig, axes = plt.subplots(1,1,figsize=(8,4),sharex=True,sharey=True)\n",
    "fig.text(0.04, 0.5, r'$R^2_{adj}$', va='center', ha='center',rotation='vertical',fontsize = 14)\n",
    "colormap = plt.cm.get_cmap('twilight') \n",
    "axes.plot(dfPORT.index[window_size - 1:],without_nans,c=\".3\")\n",
    "axes.axhline(y=np.mean(rsquare_mean),color='r', linestyle='--',label='Average '+r'$R^2_{adj}$'+': {}'.format(np.round(np.mean(rsquare_mean),2)))\n",
    "axes.legend(fontsize = 14)\n",
    "plt.plot()\n",
    "plt.savefig('Rsquared')\n",
    "plt.show()"
   ]
  },
  {
   "cell_type": "code",
   "execution_count": 223,
   "metadata": {
    "scrolled": true
   },
   "outputs": [
    {
     "name": "stdout",
     "output_type": "stream",
     "text": [
      "\\begin{tabular}{lrrrrr}\n",
      "\\toprule\n",
      "{} & \\multicolumn{5}{l}{Mkt-RF} \\\\\n",
      "{} &    BM1 &   BM2 &   BM3 &   BM4 &   BM5 \\\\\n",
      "\\midrule\n",
      "ME1 &   1.41 &  1.23 &  1.09 &  1.01 &  1.04 \\\\\n",
      "ME2 &   1.39 &  1.17 &  1.05 &  0.99 &  1.11 \\\\\n",
      "ME3 &   1.32 &  1.12 &  1.00 &  0.96 &  1.04 \\\\\n",
      "ME4 &   1.23 &  1.09 &  1.00 &  0.95 &  1.07 \\\\\n",
      "ME5 &   0.98 &  0.94 &  0.86 &  0.88 &  0.94 \\\\\n",
      "\\bottomrule\n",
      "\\end{tabular}\n",
      "\n",
      "\\begin{tabular}{lrrrrr}\n",
      "\\toprule\n",
      "{} & \\multicolumn{5}{l}{Spread} \\\\\n",
      "{} &    BM1 &   BM2 &   BM3 &   BM4 &   BM5 \\\\\n",
      "\\midrule\n",
      "ME1 &   0.61 &  0.56 &  0.82 &  0.42 &  0.43 \\\\\n",
      "ME2 &   0.46 &  0.67 &  0.58 &  0.51 &  0.20 \\\\\n",
      "ME3 &   0.43 &  0.64 &  0.42 &  0.47 &  0.39 \\\\\n",
      "ME4 &   0.17 &  0.38 &  0.21 &  0.23 &  0.07 \\\\\n",
      "ME5 &  -0.15 &  0.00 & -0.27 & -0.46 & -0.13 \\\\\n",
      "\\bottomrule\n",
      "\\end{tabular}\n",
      "\n",
      "\\begin{tabular}{lrrrrr}\n",
      "\\toprule\n",
      "{} & \\multicolumn{5}{l}{Labor} \\\\\n",
      "{} &   BM1 &   BM2 &   BM3 &   BM4 &   BM5 \\\\\n",
      "\\midrule\n",
      "ME1 &  0.56 &  0.33 &  0.37 &  0.35 &  0.41 \\\\\n",
      "ME2 &  0.09 &  0.11 &  0.05 &  0.36 &  0.30 \\\\\n",
      "ME3 &  0.08 &  0.08 & -0.06 & -0.03 & -0.13 \\\\\n",
      "ME4 & -0.15 & -0.13 & -0.18 & -0.04 &  0.25 \\\\\n",
      "ME5 & -0.19 &  0.03 & -0.08 &  0.12 &  0.21 \\\\\n",
      "\\bottomrule\n",
      "\\end{tabular}\n",
      "\n"
     ]
    }
   ],
   "source": [
    "# Make the output table more readable\n",
    "beta_matrix = beta_matrix.round(2)\n",
    "for content in beta_matrix.T.index:\n",
    "    print_report = pd.DataFrame(beta_matrix.T.loc[content,:].values.reshape(5,5),columns= [\"BM\" + str(i+1) for i in range(5)], index= [\"ME\" + str(i+1) for i in range(5)])\n",
    "    print_report = pd.concat([print_report], axis=1, keys=[content])\n",
    "    print(print_report.to_latex())"
   ]
  },
  {
   "cell_type": "code",
   "execution_count": 229,
   "metadata": {},
   "outputs": [],
   "source": [
    "# Process result from regressions to plot scatter plot\n",
    "X = sm.add_constant(beta_matrix)\n",
    "Estimated = X @ point_estimate\n",
    "Realized = (dfPORT.sub(RF,axis = 'index')).mean()"
   ]
  },
  {
   "cell_type": "code",
   "execution_count": 263,
   "metadata": {},
   "outputs": [
    {
     "name": "stderr",
     "output_type": "stream",
     "text": [
      "'c' argument looks like a single numeric RGB or RGBA sequence, which should be avoided as value-mapping will have precedence in case its length matches with 'x' & 'y'.  Please use a 2-D array with a single row if you really want to specify the same RGB or RGBA value for all points.\n",
      "'c' argument looks like a single numeric RGB or RGBA sequence, which should be avoided as value-mapping will have precedence in case its length matches with 'x' & 'y'.  Please use a 2-D array with a single row if you really want to specify the same RGB or RGBA value for all points.\n",
      "'c' argument looks like a single numeric RGB or RGBA sequence, which should be avoided as value-mapping will have precedence in case its length matches with 'x' & 'y'.  Please use a 2-D array with a single row if you really want to specify the same RGB or RGBA value for all points.\n",
      "'c' argument looks like a single numeric RGB or RGBA sequence, which should be avoided as value-mapping will have precedence in case its length matches with 'x' & 'y'.  Please use a 2-D array with a single row if you really want to specify the same RGB or RGBA value for all points.\n",
      "'c' argument looks like a single numeric RGB or RGBA sequence, which should be avoided as value-mapping will have precedence in case its length matches with 'x' & 'y'.  Please use a 2-D array with a single row if you really want to specify the same RGB or RGBA value for all points.\n",
      "'c' argument looks like a single numeric RGB or RGBA sequence, which should be avoided as value-mapping will have precedence in case its length matches with 'x' & 'y'.  Please use a 2-D array with a single row if you really want to specify the same RGB or RGBA value for all points.\n",
      "'c' argument looks like a single numeric RGB or RGBA sequence, which should be avoided as value-mapping will have precedence in case its length matches with 'x' & 'y'.  Please use a 2-D array with a single row if you really want to specify the same RGB or RGBA value for all points.\n",
      "'c' argument looks like a single numeric RGB or RGBA sequence, which should be avoided as value-mapping will have precedence in case its length matches with 'x' & 'y'.  Please use a 2-D array with a single row if you really want to specify the same RGB or RGBA value for all points.\n",
      "'c' argument looks like a single numeric RGB or RGBA sequence, which should be avoided as value-mapping will have precedence in case its length matches with 'x' & 'y'.  Please use a 2-D array with a single row if you really want to specify the same RGB or RGBA value for all points.\n",
      "'c' argument looks like a single numeric RGB or RGBA sequence, which should be avoided as value-mapping will have precedence in case its length matches with 'x' & 'y'.  Please use a 2-D array with a single row if you really want to specify the same RGB or RGBA value for all points.\n"
     ]
    },
    {
     "data": {
      "image/png": "[encoded data removed]",
      "text/plain": [
       "<Figure size 1152x576 with 2 Axes>"
      ]
     },
     "metadata": {},
     "output_type": "display_data"
    }
   ],
   "source": [
    "# Make the scatter plot \n",
    "fig, axes = plt.subplots(1,2,figsize=(16,8),sharex=True,sharey=True)\n",
    "fig.text(0.04, 0.5, 'Realized', va='center', ha='center',rotation='vertical',fontsize = 14)\n",
    "fig.text(0.5,0.04, 'Estimated', va='center', ha='center',rotation='horizontal',fontsize = 14)\n",
    "colormap = plt.cm.get_cmap('twilight') \n",
    "colors = [colormap(i) for i in np.linspace(0.1, 0.5,5)]\n",
    "axes[0].plot([0.2, 1], [0.2, 1], ls=\"--\", c=\".3\")\n",
    "for i in range(0,5):\n",
    "    axes[0].scatter(Estimated[i*5:(i+1)*5],Realized[i*5:(i+1)*5],c=colors[i],label = 'ME'+str(i+1), s=140)\n",
    "axes[0].legend(fontsize = 14)\n",
    "axes[1].plot([0.2, 1], [0.2, 1], ls=\"--\", c=\".3\")\n",
    "for i in range(0,5):\n",
    "    axes[1].scatter(Estimated[i::5],Realized[i::5],c=colors[i],label = 'BM'+str(i+1), s=140)\n",
    "axes[1].legend(fontsize = 14)\n",
    "plt.plot()\n",
    "plt.savefig('Scatter')\n",
    "plt.show()\n"
   ]
  },
  {
   "cell_type": "code",
   "execution_count": null,
   "metadata": {},
   "outputs": [],
   "source": []
  }
 ],
 "metadata": {
  "kernelspec": {
   "display_name": "Python 3",
   "language": "python",
   "name": "python3"
  },
  "language_info": {
   "codemirror_mode": {
    "name": "ipython",
    "version": 3
   },
   "file_extension": ".py",
   "mimetype": "text/x-python",
   "name": "python",
   "nbconvert_exporter": "python",
   "pygments_lexer": "ipython3",
   "version": "3.7.4"
  }
 },
 "nbformat": 4,
 "nbformat_minor": 4
}
